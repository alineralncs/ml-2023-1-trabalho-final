{
 "cells": [
  {
   "cell_type": "code",
   "execution_count": 8,
   "metadata": {},
   "outputs": [],
   "source": [
    "import pandas as pd\n",
    "\n",
    "dataset_artistas = pd.read_csv('spotify_artists_info_complete_reduced_genres.csv',  delimiter='\\t')\n",
    "dataset_musicas = pd.read_csv('spotify_songs.csv')\n",
    "\n",
    "dataset_completo = pd.merge(dataset_musicas, dataset_artistas, on='artistas', how='left')\n",
    "\n",
    "dataset_completo['imagem_artista_url'] = dataset_completo['image_url']\n",
    "\n",
    "dataset_completo.to_csv('dataset_completo.csv', index=False)"
   ]
  },
  {
   "cell_type": "code",
   "execution_count": 9,
   "metadata": {},
   "outputs": [
    {
     "name": "stdout",
     "output_type": "stream",
     "text": [
      "<class 'pandas.core.frame.DataFrame'>\n",
      "RangeIndex: 32865 entries, 0 to 32864\n",
      "Data columns (total 8 columns):\n",
      " #   Column              Non-Null Count  Dtype \n",
      "---  ------              --------------  ----- \n",
      " 0   track_name          32860 non-null  object\n",
      " 1   artistas            32865 non-null  object\n",
      " 2   track_popularity    32865 non-null  int64 \n",
      " 3   track_album_name    32860 non-null  object\n",
      " 4   playlist_name       32865 non-null  object\n",
      " 5   playlist_genre      32865 non-null  object\n",
      " 6   playlist_subgenre   32865 non-null  object\n",
      " 7   imagem_artista_url  32865 non-null  object\n",
      "dtypes: int64(1), object(7)\n",
      "memory usage: 2.0+ MB\n"
     ]
    }
   ],
   "source": [
    "import pandas as pd\n",
    "\n",
    "dataset = pd.read_csv('dataset_completo.csv')\n",
    "\n",
    "colunas_irrelevantes = ['artist_id', 'genres','image_url','danceability', 'energy', 'key'\n",
    ",  'loudness', 'speechiness','acousticness', 'instrumentalness', 'liveness'\n",
    ", 'valence', 'tempo', 'followers', 'mode', 'track_id','track_album_release_date','duration_ms','popularity','track_album_id', 'playlist_id' ]\n",
    "dataset = dataset.drop(columns=colunas_irrelevantes)\n",
    "dataset['imagem_artista_url'].fillna('https://upload.wikimedia.org/wikipedia/commons/thumb/6/65/No-Image-Placeholder.svg/1665px-No-Image-Placeholder.svg.png', inplace=True)\n",
    "dataset['artistas'].fillna('Desconhecido', inplace=True)\n",
    "\n",
    "dataset.drop_duplicates(subset='track_name')\n",
    "dataset.info()\n",
    "\n",
    "dataset.to_csv('dataset_final.csv')\n"
   ]
  }
 ],
 "metadata": {
  "kernelspec": {
   "display_name": "dataScience",
   "language": "python",
   "name": "python3"
  },
  "language_info": {
   "codemirror_mode": {
    "name": "ipython",
    "version": 3
   },
   "file_extension": ".py",
   "mimetype": "text/x-python",
   "name": "python",
   "nbconvert_exporter": "python",
   "pygments_lexer": "ipython3",
   "version": "3.10.9"
  },
  "orig_nbformat": 4
 },
 "nbformat": 4,
 "nbformat_minor": 2
}
